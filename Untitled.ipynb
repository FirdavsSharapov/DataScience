{
 "cells": [
  {
   "cell_type": "code",
   "execution_count": 3,
   "id": "094d6964",
   "metadata": {},
   "outputs": [],
   "source": [
    "\n",
    "\n",
    "import pandas_datareader.data as pdr\n",
    "import time\n",
    "\n",
    "\n",
    "def get_stock_data(ticker, start_date, end_date):\n",
    "    \"\"\"\n",
    "    Gets historical stock data of given tickers between dates\n",
    "    :param ticker: company, or companies whose data is to fetched\n",
    "    :type ticker: string or list of strings\n",
    "    :param start_date: starting date for stock prices\n",
    "    :type start_date: string of date \"YYYY-mm-dd\"\n",
    "    :param end_date: end date for stock prices\n",
    "    :type end_date: string of date \"YYYY-mm-dd\"\n",
    "    :return: stock_data.csv\n",
    "    \"\"\"\n",
    "    i = 1\n",
    "    try:\n",
    "        all_data = pdr.get_data_yahoo(ticker, start_date, end_date)\n",
    "    except ValueError:\n",
    "        print(\"ValueError, trying again\")\n",
    "        i += 1\n",
    "        if i < 5:\n",
    "            time.sleep(10)\n",
    "            get_stock_data(ticker, start_date, end_date)\n",
    "        else:\n",
    "            print(\"Tried 5 times, Yahoo error. Trying after 2 minutes\")\n",
    "            time.sleep(120)\n",
    "            get_stock_data(ticker, start_date, end_date)\n",
    "    stock_data = all_data[\"Adj Close\"]\n",
    "    stock_data.to_csv(\"stock_prices.csv\")\n",
    "\n",
    "\n",
    "def get_sp500(start_date, end_date):\n",
    "    \"\"\"\n",
    "    Gets sp500 price data\n",
    "    :param start_date: starting date for sp500 prices\n",
    "    :type start_date: string of date \"Y-m-d\"\n",
    "    :param end_date: end date for sp500 prices\n",
    "    :type end_date: string of date \"Y-m-d\"\n",
    "    :return: sp500_data.csv\n",
    "    \"\"\"\n",
    "    i = 1\n",
    "    try:\n",
    "        sp500_all_data = pdr.get_data_yahoo(\"SPY\", start_date, end_date)\n",
    "    except ValueError:\n",
    "        print(\"ValueError, trying again\")\n",
    "        i += 1\n",
    "        if i < 5:\n",
    "            time.sleep(10)\n",
    "            get_stock_data(start_date, end_date)\n",
    "        else:\n",
    "            print(\"Tried 5 times, Yahoo error. Trying after 2 minutes\")\n",
    "            time.sleep(120)\n",
    "            get_stock_data(start_date, end_date)\n",
    "    sp500_data = sp500_all_data[\"Adj Close\"]\n",
    "    sp500_data.to_csv(\"sp500_data.csv\")\n"
   ]
  },
  {
   "cell_type": "code",
   "execution_count": 5,
   "id": "b986fdcb",
   "metadata": {},
   "outputs": [],
   "source": [
    "\n",
    "\n",
    "if __name__ == \"__main__\":\n",
    "    get_stock_data(\"NIO\", \"2022-05-01\", \"2022-09-09\")\n",
    "    # get_sp500(\"2018-05-01\", \"2018-06-01\")"
   ]
  },
  {
   "cell_type": "code",
   "execution_count": null,
   "id": "e61dc4c6",
   "metadata": {},
   "outputs": [],
   "source": []
  }
 ],
 "metadata": {
  "kernelspec": {
   "display_name": "Python 3 (ipykernel)",
   "language": "python",
   "name": "python3"
  },
  "language_info": {
   "codemirror_mode": {
    "name": "ipython",
    "version": 3
   },
   "file_extension": ".py",
   "mimetype": "text/x-python",
   "name": "python",
   "nbconvert_exporter": "python",
   "pygments_lexer": "ipython3",
   "version": "3.9.12"
  }
 },
 "nbformat": 4,
 "nbformat_minor": 5
}
