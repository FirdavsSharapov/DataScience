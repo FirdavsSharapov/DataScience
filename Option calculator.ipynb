{
 "cells": [
  {
   "cell_type": "code",
   "execution_count": 1,
   "metadata": {},
   "outputs": [],
   "source": [
    "from datetime import datetime, date\n",
    "import numpy as np\n",
    "import pandas as pd\n",
    "import pandas_datareader.data as web"
   ]
  },
  {
   "cell_type": "code",
   "execution_count": 2,
   "metadata": {},
   "outputs": [],
   "source": [
    "stock = 'SPY'\n",
    "expiry = '12-18-2022'\n",
    "strike_price = 370\n",
    "\n",
    "today = datetime.now()\n",
    "one_year_ago = today.replace(year=today.year-1)"
   ]
  },
  {
   "cell_type": "code",
   "execution_count": 5,
   "metadata": {},
   "outputs": [],
   "source": [
    "df = web.get_data_yahoo(\"AAL\",start = \"2016-01-01\", end = \"2020-11-18\")"
   ]
  },
  {
   "cell_type": "code",
   "execution_count": 7,
   "metadata": {},
   "outputs": [
    {
     "data": {
      "text/plain": [
       "Date\n",
       "2016-01-04    40.910000\n",
       "2016-01-05    40.520000\n",
       "2016-01-06    41.230000\n",
       "2016-01-07    40.450001\n",
       "2016-01-08    40.369999\n",
       "                ...    \n",
       "2020-11-12    11.740000\n",
       "2020-11-13    12.240000\n",
       "2020-11-16    12.790000\n",
       "2020-11-17    12.700000\n",
       "2020-11-18    12.740000\n",
       "Name: Close, Length: 1230, dtype: float64"
      ]
     },
     "execution_count": 7,
     "metadata": {},
     "output_type": "execute_result"
    }
   ],
   "source": [
    "df[\n",
    "    'Close'\n",
    "]"
   ]
  },
  {
   "cell_type": "code",
   "execution_count": null,
   "metadata": {},
   "outputs": [],
   "source": []
  }
 ],
 "metadata": {
  "kernelspec": {
   "display_name": "Python 3 (ipykernel)",
   "language": "python",
   "name": "python3"
  },
  "language_info": {
   "codemirror_mode": {
    "name": "ipython",
    "version": 3
   },
   "file_extension": ".py",
   "mimetype": "text/x-python",
   "name": "python",
   "nbconvert_exporter": "python",
   "pygments_lexer": "ipython3",
   "version": "3.9.12"
  }
 },
 "nbformat": 4,
 "nbformat_minor": 4
}
