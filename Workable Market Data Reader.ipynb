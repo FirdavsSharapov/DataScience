{
 "cells": [
  {
   "cell_type": "code",
   "execution_count": 13,
   "metadata": {},
   "outputs": [],
   "source": [
    "import os \n",
    "import pandas_datareader.data as pdr\n",
    "import matplotlib.pyplot as plt\n",
    "import pandas as pd\n",
    "from pandas_datareader import data\n",
    "from datetime import date, timedelta"
   ]
  },
  {
   "cell_type": "code",
   "execution_count": 8,
   "metadata": {},
   "outputs": [],
   "source": [
    "# Define the instruments to download. We would like to see Apple, Microsoft and the S&P500 index.\n",
    "tickers = ['AAPL', 'MSFT', 'NIO']"
   ]
  },
  {
   "cell_type": "code",
   "execution_count": 9,
   "metadata": {},
   "outputs": [],
   "source": [
    "# We would like all for past 60 days\n",
    "start_date = (date.today()-timedelta(days=30)).isoformat()\n",
    "end_date = date.today().isoformat()"
   ]
  },
  {
   "cell_type": "code",
   "execution_count": 10,
   "metadata": {},
   "outputs": [],
   "source": [
    "data_provider = 'iex-tops' # Price and volume data from IEX"
   ]
  },
  {
   "cell_type": "code",
   "execution_count": 11,
   "metadata": {},
   "outputs": [
    {
     "data": {
      "text/plain": [
       "'2022-09-11'"
      ]
     },
     "execution_count": 11,
     "metadata": {},
     "output_type": "execute_result"
    }
   ],
   "source": [
    "end_date"
   ]
  },
  {
   "cell_type": "code",
   "execution_count": 24,
   "metadata": {},
   "outputs": [],
   "source": [
    "# User pandas_reader.data.DataReader to load the desired data. As simple as that.\n",
    "panel_data = pdr.get_data_yahoo(\"AAL\", start_date, end_date)"
   ]
  },
  {
   "cell_type": "code",
   "execution_count": 25,
   "metadata": {},
   "outputs": [
    {
     "name": "stdout",
     "output_type": "stream",
     "text": [
      "             High    Low   Open  Close    Volume  Adj Close\n",
      "Date                                                       \n",
      "2022-08-12  15.29  15.03  15.16  15.25  21151000      15.25\n",
      "2022-08-15  15.55  15.25  15.27  15.33  18364000      15.33\n",
      "2022-08-16  15.71  15.11  15.30  15.50  23668500      15.50\n",
      "2022-08-17  15.29  14.78  15.23  14.96  28352800      14.96\n",
      "2022-08-18  15.02  14.73  14.98  14.84  19271200      14.84\n",
      "2022-08-19  14.57  13.96  14.50  14.17  31593300      14.17\n",
      "2022-08-22  13.92  13.61  13.78  13.71  25120700      13.71\n",
      "2022-08-23  13.93  13.59  13.78  13.82  25500100      13.82\n",
      "2022-08-24  14.05  13.77  13.84  13.99  17825100      13.99\n",
      "2022-08-25  14.46  14.09  14.17  14.42  22167800      14.42\n",
      "2022-08-26  14.54  13.71  14.41  13.74  23177500      13.74\n",
      "2022-08-29  13.71  13.45  13.51  13.51  21391200      13.51\n",
      "2022-08-30  13.68  13.20  13.61  13.33  25076800      13.33\n",
      "2022-08-31  13.53  12.96  13.49  12.99  27923800      12.99\n",
      "2022-09-01  12.95  12.50  12.87  12.93  29871200      12.93\n",
      "2022-09-02  13.35  12.87  13.15  12.99  26881500      12.99\n",
      "2022-09-06  13.26  12.74  13.19  13.22  27966400      13.22\n",
      "2022-09-07  13.93  13.22  13.27  13.89  32867600      13.89\n",
      "2022-09-08  14.12  13.56  13.67  13.96  26437600      13.96\n",
      "2022-09-09  14.25  14.01  14.10  14.19  23927900      14.19\n"
     ]
    }
   ],
   "source": [
    "print(panel_data)"
   ]
  },
  {
   "cell_type": "code",
   "execution_count": 30,
   "metadata": {},
   "outputs": [],
   "source": [
    "close = panel_data['Close']"
   ]
  },
  {
   "cell_type": "code",
   "execution_count": 31,
   "metadata": {},
   "outputs": [
    {
     "data": {
      "text/plain": [
       "Date\n",
       "2022-08-12    15.25\n",
       "2022-08-15    15.33\n",
       "2022-08-16    15.50\n",
       "2022-08-17    14.96\n",
       "2022-08-18    14.84\n",
       "2022-08-19    14.17\n",
       "2022-08-22    13.71\n",
       "2022-08-23    13.82\n",
       "2022-08-24    13.99\n",
       "2022-08-25    14.42\n",
       "2022-08-26    13.74\n",
       "2022-08-29    13.51\n",
       "2022-08-30    13.33\n",
       "2022-08-31    12.99\n",
       "2022-09-01    12.93\n",
       "2022-09-02    12.99\n",
       "2022-09-06    13.22\n",
       "2022-09-07    13.89\n",
       "2022-09-08    13.96\n",
       "2022-09-09    14.19\n",
       "Name: Close, dtype: float64"
      ]
     },
     "execution_count": 31,
     "metadata": {},
     "output_type": "execute_result"
    }
   ],
   "source": [
    "close"
   ]
  },
  {
   "cell_type": "code",
   "execution_count": 32,
   "metadata": {},
   "outputs": [],
   "source": [
    "all_weekdays = pd.date_range(start=start_date, end=end_date, freq='B')"
   ]
  },
  {
   "cell_type": "code",
   "execution_count": 33,
   "metadata": {},
   "outputs": [],
   "source": [
    "close = close.reindex(all_weekdays)"
   ]
  },
  {
   "cell_type": "code",
   "execution_count": 34,
   "metadata": {},
   "outputs": [],
   "source": [
    "close = close.fillna(method='ffill')"
   ]
  },
  {
   "cell_type": "code",
   "execution_count": 35,
   "metadata": {},
   "outputs": [
    {
     "name": "stdout",
     "output_type": "stream",
     "text": [
      "DatetimeIndex(['2022-08-12', '2022-08-15', '2022-08-16', '2022-08-17',\n",
      "               '2022-08-18', '2022-08-19', '2022-08-22', '2022-08-23',\n",
      "               '2022-08-24', '2022-08-25', '2022-08-26', '2022-08-29',\n",
      "               '2022-08-30', '2022-08-31', '2022-09-01', '2022-09-02',\n",
      "               '2022-09-05', '2022-09-06', '2022-09-07', '2022-09-08',\n",
      "               '2022-09-09'],\n",
      "              dtype='datetime64[ns]', freq='B')\n"
     ]
    }
   ],
   "source": [
    "print(all_weekdays)"
   ]
  },
  {
   "cell_type": "code",
   "execution_count": 36,
   "metadata": {},
   "outputs": [
    {
     "data": {
      "text/plain": [
       "2022-08-12    15.25\n",
       "2022-08-15    15.33\n",
       "2022-08-16    15.50\n",
       "2022-08-17    14.96\n",
       "2022-08-18    14.84\n",
       "2022-08-19    14.17\n",
       "2022-08-22    13.71\n",
       "2022-08-23    13.82\n",
       "2022-08-24    13.99\n",
       "2022-08-25    14.42\n",
       "Freq: B, Name: Close, dtype: float64"
      ]
     },
     "execution_count": 36,
     "metadata": {},
     "output_type": "execute_result"
    }
   ],
   "source": [
    "close.head(10)"
   ]
  },
  {
   "cell_type": "code",
   "execution_count": 38,
   "metadata": {},
   "outputs": [],
   "source": [
    "msft = close.loc[:]"
   ]
  },
  {
   "cell_type": "code",
   "execution_count": 39,
   "metadata": {},
   "outputs": [],
   "source": [
    "short_rolling_msft = msft.rolling(window=20).mean()\n",
    "long_rolling_msft = msft.rolling(window=10).mean()"
   ]
  },
  {
   "cell_type": "code",
   "execution_count": 40,
   "metadata": {},
   "outputs": [
    {
     "data": {
      "image/png": "[encoded data removed]",
      "text/plain": [
       "<Figure size 1152x648 with 1 Axes>"
      ]
     },
     "metadata": {
      "needs_background": "light"
     },
     "output_type": "display_data"
    }
   ],
   "source": [
    "fig, ax = plt.subplots(figsize=(16,9))\n",
    "\n",
    "ax.plot(msft.index, msft, label='AAPL')\n",
    "ax.plot(short_rolling_msft.index, short_rolling_msft, label='20 days rolling')\n",
    "ax.plot(long_rolling_msft.index, long_rolling_msft, label='10 days rolling')\n",
    "\n",
    "ax.set_xlabel('Date')\n",
    "ax.set_ylabel('Adjusted closing price ($)')\n",
    "ax.legend()\n",
    "ax.grid()"
   ]
  },
  {
   "cell_type": "code",
   "execution_count": null,
   "metadata": {},
   "outputs": [],
   "source": []
  }
 ],
 "metadata": {
  "kernelspec": {
   "display_name": "Python 3 (ipykernel)",
   "language": "python",
   "name": "python3"
  },
  "language_info": {
   "codemirror_mode": {
    "name": "ipython",
    "version": 3
   },
   "file_extension": ".py",
   "mimetype": "text/x-python",
   "name": "python",
   "nbconvert_exporter": "python",
   "pygments_lexer": "ipython3",
   "version": "3.9.12"
  }
 },
 "nbformat": 4,
 "nbformat_minor": 4
}
